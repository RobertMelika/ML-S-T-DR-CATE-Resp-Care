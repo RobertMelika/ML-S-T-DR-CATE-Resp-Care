{
 "cells": [
  {
   "cell_type": "code",
   "id": "initial_id",
   "metadata": {
    "collapsed": true,
    "ExecuteTime": {
     "end_time": "2024-06-18T12:29:00.068804Z",
     "start_time": "2024-06-18T12:28:55.221767Z"
    }
   },
   "source": [
    "import numpy as np\n",
    "import pandas as pd\n",
    "from econml.sklearn_extensions.model_selection import GridSearchCVList\n",
    "from econml.sklearn_extensions.linear_model import StatsModelsLinearRegression\n",
    "from econml.metalearners import SLearner, TLearner\n",
    "from econml.dr import DRLearner\n",
    "from sklearn.svm import SVC\n",
    "from sklearn.linear_model import LogisticRegression, LinearRegression\n",
    "from xgboost import XGBClassifier, XGBRegressor\n",
    "from sklearn.ensemble import GradientBoostingClassifier, GradientBoostingRegressor\n",
    "from sklearn.neighbors import KNeighborsClassifier\n",
    "from sklearn.calibration import CalibratedClassifierCV\n",
    "from sklearn.model_selection import train_test_split\n",
    "from sklearn.preprocessing import MinMaxScaler\n",
    "from sklearn.impute import KNNImputer\n",
    "from sklift.viz import plot_qini_curve, plot_uplift_curve\n",
    "from sklift.metrics import qini_auc_score, uplift_auc_score\n",
    "import matplotlib.pyplot as plt\n",
    "from nb21 import elast, cumulative_gain\n",
    "import seaborn as sns\n",
    "\n",
    "# Load dataset\n",
    "data = pd.read_csv('../data/bsc_project_set.csv')\n",
    "data = data.drop(['id', 'Unnamed: 0', 'peep'], axis=1)\n",
    "\n",
    "# Convert categorical data into numeric\n",
    "categorical_columns = ['sex', 'peep_regime', 'mort_28']\n",
    "data = pd.get_dummies(data, columns=categorical_columns, drop_first=False)\n",
    "data = data.drop(['sex_F', 'peep_regime_low', 'mort_28_True'], axis=1)\n",
    "\n",
    "numeric_columns = data.columns.difference(['mort_28_False'])\n",
    "scaler = MinMaxScaler()\n",
    "data[numeric_columns] = scaler.fit_transform(data[numeric_columns])\n",
    "\n",
    "imputer = KNNImputer(n_neighbors=11, weights='uniform')\n",
    "data[numeric_columns] = imputer.fit_transform(data[numeric_columns])\n",
    "\n",
    "# Define treatment and outcome columns\n",
    "treatment_column = 'peep_regime_high'\n",
    "outcome_column = 'mort_28_False'\n",
    "\n",
    "# Define features (excluding treatment and outcome)\n",
    "features = list(set(data.columns) - {treatment_column, outcome_column})\n",
    "selected_features = ['age', 'urea', 'weight', 'pf_ratio', 'po2', 'ph', 'fio2', 'driving_pressure', 'plateau_pressure']\n",
    "\n",
    "X = data[selected_features]\n",
    "Y = data[outcome_column]\n",
    "T = data[treatment_column]"
   ],
   "execution_count": 3,
   "outputs": []
  },
  {
   "metadata": {
    "ExecuteTime": {
     "end_time": "2024-06-18T12:29:42.041408Z",
     "start_time": "2024-06-18T12:29:42.028583Z"
    }
   },
   "cell_type": "code",
   "source": [
    "# Function to evaluate the S-Learner and T-Learner with given models\n",
    "def eval_learner(learner, X, Y, T, selected_features, model_name, n_splits=10):\n",
    "    results = {'train': [], 'test': []}\n",
    "    \n",
    "    for i in range(n_splits):\n",
    "        print(f\"Iteration {i} for {model_name}\")\n",
    "        \n",
    "        X_train, X_test, y_train, y_test, t_train, t_test = train_test_split(X, Y, T, test_size=0.2, random_state=i*768)\n",
    "\n",
    "        learner.fit(Y=y_train.astype(int), T=t_train, X=X_train)\n",
    "\n",
    "        cate_train = learner.effect(X=X_train)\n",
    "        cate_test = learner.effect(X=X_test)\n",
    "        \n",
    "        data_train = pd.DataFrame(X_train, columns=selected_features)\n",
    "        data_train['outcome'] = y_train\n",
    "        data_train['treatment'] = t_train\n",
    "        data_train['CATE'] = cate_train\n",
    "        \n",
    "        data_test = pd.DataFrame(X_test, columns=selected_features)\n",
    "        data_test['outcome'] = y_test\n",
    "        data_test['treatment'] = t_test\n",
    "        data_test['CATE'] = cate_test\n",
    "        \n",
    "        qini_auc_train = qini_auc_score(data_train['outcome'], data_train['CATE'], data_train['treatment'])\n",
    "        qini_auc_test = qini_auc_score(data_test['outcome'], data_test['CATE'], data_test['treatment'])\n",
    "        \n",
    "        uplift_auc_train = uplift_auc_score(data_train['outcome'], data_train['CATE'], data_train['treatment'])\n",
    "        uplift_auc_test = uplift_auc_score(data_test['outcome'], data_test['CATE'], data_test['treatment'])\n",
    "        \n",
    "        results['train'].append({'qini_auc': qini_auc_train, 'uplift_auc': uplift_auc_train})\n",
    "        results['test'].append({'qini_auc': qini_auc_test, 'uplift_auc': uplift_auc_test})\n",
    "\n",
    "        # Visualize Qini Curve Test\n",
    "        fig, ax = plt.subplots(1, 1)\n",
    "        ax.set_title(f'Qini curve test - {model_name}')\n",
    "        plot_qini_curve(data_test['outcome'], data_test['CATE'], data_test['treatment'], perfect=False, name='S/T-Learner', ax=ax)\n",
    "        plt.legend(loc='best')\n",
    "        plt.savefig(f'plots/ST/Qini_curve_test_{model_name}_iter_{i}.png', bbox_inches='tight')\n",
    "        plt.savefig(f'plots/ST/Qini_curve_test_{model_name}_iter_{i}.svg', bbox_inches='tight')\n",
    "        plt.show()\n",
    "\n",
    "        # Visualize Qini Curve Train\n",
    "        fig, ax = plt.subplots(1, 1)\n",
    "        ax.set_title(f'Qini curve train - {model_name}')\n",
    "        plot_qini_curve(data_train['outcome'], data_train['CATE'], data_train['treatment'], perfect=False, name='S/T-Learner', ax=ax)\n",
    "        plt.legend(loc='best')\n",
    "        plt.savefig(f'plots/ST/Qini_curve_train_{model_name}_iter_{i}.png', bbox_inches='tight')\n",
    "        plt.savefig(f'plots/ST/Qini_curve_train_{model_name}_iter_{i}.svg', bbox_inches='tight')\n",
    "        plt.show()\n",
    "\n",
    "        # Visualize Uplift Curve Test\n",
    "        fig, ax = plt.subplots(1, 1)\n",
    "        ax.set_title(f'Uplift curve test - {model_name}')\n",
    "        plot_uplift_curve(data_test['outcome'], data_test['CATE'], data_test['treatment'], perfect=False, name='S/T-Learner', ax=ax)\n",
    "        plt.legend(loc='best')\n",
    "        plt.savefig(f'plots/ST/Uplift_curve_test_{model_name}_iter_{i}.png', bbox_inches='tight')\n",
    "        plt.savefig(f'plots/ST/Uplift_curve_test_{model_name}_iter_{i}.svg', bbox_inches='tight')\n",
    "        plt.show()\n",
    "\n",
    "        # Visualize Uplift Curve Train\n",
    "        fig, ax = plt.subplots(1, 1)\n",
    "        ax.set_title(f'Uplift curve train - {model_name}')\n",
    "        plot_uplift_curve(data_train['outcome'], data_train['CATE'], data_train['treatment'], perfect=False, name='S/T-Learner', ax=ax)\n",
    "        plt.legend(loc='best')\n",
    "        plt.savefig(f'plots/ST/Uplift_curve_train_{model_name}_iter_{i}.png', bbox_inches='tight')\n",
    "        plt.savefig(f'plots/ST/Uplift_curve_train_{model_name}_iter_{i}.svg', bbox_inches='tight')\n",
    "        plt.show()\n",
    "        \n",
    "        train_data = pd.concat([X_train, y_train, t_train], axis=1)\n",
    "        test_data = pd.concat([X_test, y_test, t_test], axis=1)\n",
    "\n",
    "        gain_curve_dr_lr_train = cumulative_gain(train_data.assign(cate=cate_train), \"cate\", y=outcome_column, t=treatment_column)\n",
    "        gain_curve_dr_lr_test = cumulative_gain(test_data.assign(cate=cate_test), \"cate\", y=outcome_column, t=treatment_column)\n",
    "\n",
    "\n",
    "        # plt.figure(dpi=200)\n",
    "        plt.plot(gain_curve_dr_lr_test, color=\"C4\", label=\"DR-Learner Test\")\n",
    "        plt.plot(gain_curve_dr_lr_train, color=\"C5\", label=\"DR-Learner Train\")\n",
    "        plt.plot([0, 100], [0, elast(data, outcome_column, treatment_column)], linestyle=\"--\", color=\"black\", label=\"Baseline\")\n",
    "        plt.legend(loc='best')\n",
    "        plt.title(f\"Cumulative gain - {model_name}\")\n",
    "        # plots/swapped/mimic/\n",
    "        plt.savefig(f'plots/ST/Cumulative_gain_curve_train_{model_name}_iter_{i+1}.png', bbox_inches='tight')\n",
    "        plt.savefig(f'plots/ST/Cumulative_gain_curve_train_{model_name}_iter_{i+1}.svg', bbox_inches='tight')\n",
    "        plt.show()\n",
    "\n",
    "    return results"
   ],
   "id": "4c94c559273de643",
   "execution_count": 6,
   "outputs": []
  },
  {
   "metadata": {
    "ExecuteTime": {
     "end_time": "2024-06-18T12:30:24.150009Z",
     "start_time": "2024-06-18T12:29:42.387240Z"
    }
   },
   "cell_type": "code",
   "source": [
    "# S-Learner with Gradient Boosting\n",
    "s_learner_gb = SLearner(overall_model=GradientBoostingRegressor(n_estimators=100, random_state=768))\n",
    "print(\"S-Learner Gradient Boosting training\")\n",
    "s_learner_gb_results = eval_learner(s_learner_gb, X, Y, T, selected_features, \"S-Learner Gradient Boosting\")"
   ],
   "id": "b433c75630acdd20",
   "execution_count": 7,
   "outputs": []
  },
  {
   "metadata": {
    "ExecuteTime": {
     "end_time": "2024-06-18T12:31:01.081640Z",
     "start_time": "2024-06-18T12:30:24.151606Z"
    }
   },
   "cell_type": "code",
   "source": [
    "# S-Learner with Linear Regression\n",
    "s_learner_lr = SLearner(overall_model=LinearRegression())\n",
    "print(\"S-Learner Linear Regression training\")\n",
    "s_learner_lr_results = eval_learner(s_learner_lr, X, Y, T, selected_features, \"S-Learner Linear Regression\")"
   ],
   "id": "dfd7c04eee974256",
   "execution_count": 8,
   "outputs": []
  },
  {
   "metadata": {
    "ExecuteTime": {
     "end_time": "2024-06-18T12:31:46.122201Z",
     "start_time": "2024-06-18T12:31:01.082889Z"
    }
   },
   "cell_type": "code",
   "source": [
    "# T-Learner with Gradient Boosting\n",
    "t_learner_gb = TLearner(models=GradientBoostingRegressor(n_estimators=100, random_state=768))\n",
    "print(\"T-Learner Gradient Boosting training\")\n",
    "t_learner_gb_results = eval_learner(t_learner_gb, X, Y, T, selected_features, \"T-Learner Gradient Boosting\")"
   ],
   "id": "1a87a3f1c6db5071",
   "execution_count": 9,
   "outputs": []
  },
  {
   "metadata": {
    "ExecuteTime": {
     "end_time": "2024-06-18T12:32:21.197880Z",
     "start_time": "2024-06-18T12:31:46.123627Z"
    }
   },
   "cell_type": "code",
   "source": [
    "# T-Learner with Linear Regression\n",
    "t_learner_lr = TLearner(models=LinearRegression())\n",
    "print(\"T-Learner Linear Regression training\")\n",
    "t_learner_lr_results = eval_learner(t_learner_lr, X, Y, T, selected_features, \"T-Learner Linear Regression\")"
   ],
   "id": "d37151887f5feecc",
   "execution_count": 10,
   "outputs": []
  },
  {
   "metadata": {
    "ExecuteTime": {
     "end_time": "2024-06-18T12:32:21.202924Z",
     "start_time": "2024-06-18T12:32:21.199187Z"
    }
   },
   "cell_type": "code",
   "source": [
    "# Print results for S-Learner and T-Learner\n",
    "def print_results(model_name, results):\n",
    "    avg_train_qini_auc = np.mean([r['qini_auc'] for r in results['train']])\n",
    "    avg_test_qini_auc = np.mean([r['qini_auc'] for r in results['test']])\n",
    "    avg_train_uplift_auc = np.mean([r['uplift_auc'] for r in results['train']])\n",
    "    avg_test_uplift_auc = np.mean([r['uplift_auc'] for r in results['test']])\n",
    "\n",
    "    print(f\"Results for {model_name}:\")\n",
    "    print(f\"Average Train Qini AUC: {avg_train_qini_auc:.6f}, Average Test Qini AUC: {avg_test_qini_auc:.6f}\")\n",
    "    print(f\"Average Train Uplift AUC: {avg_train_uplift_auc:.6f}, Average Test Uplift AUC: {avg_test_uplift_auc:.6f}\\n\")\n",
    "\n"
   ],
   "id": "b98d887ffc7b0900",
   "execution_count": 11,
   "outputs": []
  },
  {
   "metadata": {
    "ExecuteTime": {
     "end_time": "2024-06-18T12:32:21.220493Z",
     "start_time": "2024-06-18T12:32:21.204293Z"
    }
   },
   "cell_type": "code",
   "source": [
    "# Print all results\n",
    "print_results(\"S-Learner Gradient Boosting\", s_learner_gb_results)\n",
    "print_results(\"S-Learner Linear Regression\", s_learner_lr_results)\n",
    "print_results(\"T-Learner Gradient Boosting\", t_learner_gb_results)\n",
    "print_results(\"T-Learner Linear Regression\", t_learner_lr_results)"
   ],
   "id": "fe43b19817e471fc",
   "execution_count": 12,
   "outputs": []
  },
  {
   "metadata": {},
   "cell_type": "code",
   "execution_count": null,
   "source": "",
   "id": "aff83e23190683b0",
   "outputs": []
  }
 ],
 "metadata": {
  "kernelspec": {
   "display_name": "Python 3",
   "language": "python",
   "name": "python3"
  },
  "language_info": {
   "codemirror_mode": {
    "name": "ipython",
    "version": 2
   },
   "file_extension": ".py",
   "mimetype": "text/x-python",
   "name": "python",
   "nbconvert_exporter": "python",
   "pygments_lexer": "ipython2",
   "version": "2.7.6"
  }
 },
 "nbformat": 4,
 "nbformat_minor": 5
}
