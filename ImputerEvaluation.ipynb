{
 "cells": [
  {
   "cell_type": "code",
   "id": "initial_id",
   "metadata": {
    "collapsed": true,
    "ExecuteTime": {
     "end_time": "2024-06-11T17:28:12.054964Z",
     "start_time": "2024-06-11T17:28:10.263246Z"
    }
   },
   "source": [
    "import pandas as pd\n",
    "import numpy as np\n",
    "import matplotlib.pyplot as plt\n",
    "from sklearn.metrics import mean_squared_error\n",
    "from sklearn.model_selection import train_test_split\n",
    "# explicitly require this experimental feature\n",
    "from sklearn.experimental import enable_iterative_imputer  # noqa\n",
    "# now you can import normally from sklearn.impute\n",
    "from sklearn.impute import IterativeImputer\n",
    "from sklearn.impute import KNNImputer\n",
    "from sklearn.preprocessing import StandardScaler, Normalizer, MinMaxScaler\n"
   ],
   "execution_count": 1,
   "outputs": []
  },
  {
   "metadata": {
    "ExecuteTime": {
     "end_time": "2024-06-11T17:37:02.002255Z",
     "start_time": "2024-06-11T17:37:01.943041Z"
    }
   },
   "cell_type": "code",
   "source": [
    "\n",
    "# Load dataset\n",
    "data = pd.read_csv('../data/bsc_project_set.csv')\n",
    "\n",
    "# Drop id\n",
    "data = data.drop(['id', 'Unnamed: 0'], axis=1)\n",
    "\n",
    "data_missing = data\n",
    "data_complete = data.dropna()\n",
    "data = data_complete\n",
    "\n",
    "\n",
    "# Convert categorical data into numeric\n",
    "# 'sex' and 'peep_regime' are categorical, use pd.get_dummies\n",
    "categorical_columns = ['sex', 'peep_regime']\n",
    "data = pd.get_dummies(data, columns=categorical_columns, drop_first=False)\n",
    "data = data.drop(['sex_F','peep_regime_low'], axis = 1)\n",
    "data['mort_28'] = data['mort_28'].astype(int)\n",
    "data['sex_M'] = data['sex_M'].astype(int)\n",
    "data['peep_regime_high'] = data['peep_regime_high'].astype(int)\n",
    "\n",
    "# print(\"Before normalizing\")\n",
    "# data.head()\n",
    "\n",
    "numeric_columns = data.columns\n",
    "# print(numeric_columns)\n",
    "continuous_columns = data.columns.difference(['mort_28', 'sex_M', 'peep_regime_high'])\n",
    "\n",
    "# Normalize data\n",
    "# scaler = StandardScaler()\n",
    "# scaler = Normalizer()\n",
    "# data[continuous_columns] = scaler.fit_transform(data[continuous_columns])\n",
    "scaler = MinMaxScaler()\n",
    "data[numeric_columns] = scaler.fit_transform(data[numeric_columns])\n",
    "\n",
    "\n",
    "# print(\"After normalization\")\n",
    "# data.head()\n",
    "\n",
    "# Randomly remove values from the complete dataset\n",
    "def randomly_remove_values(df, fraction, columns):\n",
    "    df_nan = df.copy()\n",
    "    for col in columns:\n",
    "        df_nan.loc[df_nan.sample(frac=fraction).index, col] = np.nan\n",
    "    return df_nan\n",
    "\n",
    "# Create a dataset with randomly removed values\n",
    "fraction_missing = 0.07  # 7% missing values\n",
    "data_incomplete = randomly_remove_values(data, fraction_missing, continuous_columns)\n",
    "\n",
    "# data_incomplete\n"
   ],
   "id": "c2da8bab6e860280",
   "execution_count": 101,
   "outputs": []
  },
  {
   "metadata": {
    "ExecuteTime": {
     "end_time": "2024-06-11T17:37:13.302369Z",
     "start_time": "2024-06-11T17:37:02.241446Z"
    }
   },
   "cell_type": "code",
   "source": [
    "# Impute using Iterative Imputer\n",
    "iterative_imputer = IterativeImputer(max_iter=10, random_state=768)\n",
    "df_iterative_imputed = pd.DataFrame(iterative_imputer.fit_transform(data_incomplete), columns=data_incomplete.columns)"
   ],
   "id": "924381b728e84c83",
   "execution_count": 102,
   "outputs": []
  },
  {
   "metadata": {
    "ExecuteTime": {
     "end_time": "2024-06-11T17:37:13.554112Z",
     "start_time": "2024-06-11T17:37:13.305266Z"
    }
   },
   "cell_type": "code",
   "source": [
    "# Impute using KNN Imputer\n",
    "knn_imputer = KNNImputer(n_neighbors=11, weights='uniform')\n",
    "df_knn_imputed = pd.DataFrame(knn_imputer.fit_transform(data_incomplete), columns=data_incomplete.columns)"
   ],
   "id": "a8ce37b3b13bb274",
   "execution_count": 103,
   "outputs": []
  },
  {
   "metadata": {
    "ExecuteTime": {
     "end_time": "2024-06-11T17:37:13.558466Z",
     "start_time": "2024-06-11T17:37:13.555069Z"
    }
   },
   "cell_type": "code",
   "source": [
    "# Function to calculate the imputation error\n",
    "def calculate_imputation_error(original, imputed, mask):\n",
    "    return mean_squared_error(original[mask], imputed[mask])\n",
    "\n",
    "# Create a mask for the removed values\n",
    "mask = data_incomplete.isna()\n",
    "\n",
    "# mask.head()\n",
    "# data[mask].head()\n",
    "\n",
    "\n",
    "\n",
    "# Impute missing data\n",
    "# imputer = SimpleImputer(strategy='mean')\n",
    "# imputer = KNNImputer(n_neighbors=5, weights='uniform')\n",
    "# imputer = IterativeImputer(random_state=768)\n",
    "\n",
    "# data[numeric_columns] = imputer.fit_transform(data[numeric_columns])"
   ],
   "id": "3ed0bb8ab39f60ce",
   "execution_count": 104,
   "outputs": []
  },
  {
   "metadata": {
    "ExecuteTime": {
     "end_time": "2024-06-11T17:37:13.579741Z",
     "start_time": "2024-06-11T17:37:13.559871Z"
    }
   },
   "cell_type": "code",
   "source": [
    "# Calculate error for KNN Imputer\n",
    "knn_error = calculate_imputation_error(data, df_knn_imputed, mask.values)\n",
    "# knn_error = mean_squared_error(data, df_knn_imputed)\n",
    "print(f'KNN Imputer MSE: {knn_error}')\n",
    "\n",
    "# Calculate error for Iterative Imputer\n",
    "iterative_error = calculate_imputation_error(data, df_iterative_imputed, mask.values)\n",
    "# iterative_error = mean_squared_error(data, df_iterative_imputed)\n",
    "print(f'Iterative Imputer MSE: {iterative_error}')\n"
   ],
   "id": "2e349c73ffc8d6c7",
   "execution_count": 105,
   "outputs": []
  },
  {
   "metadata": {
    "ExecuteTime": {
     "end_time": "2024-06-11T17:36:38.423832Z",
     "start_time": "2024-06-11T17:36:38.420295Z"
    }
   },
   "cell_type": "code",
   "source": "# df_knn_imputed",
   "id": "3631660b2ebabca4",
   "execution_count": 95,
   "outputs": []
  },
  {
   "metadata": {
    "ExecuteTime": {
     "end_time": "2024-05-23T13:05:02.916886Z",
     "start_time": "2024-05-23T13:05:02.903534Z"
    }
   },
   "cell_type": "code",
   "source": "# df_iterative_imputed",
   "id": "c19b8a38b29019b9",
   "execution_count": 8,
   "outputs": []
  },
  {
   "metadata": {
    "ExecuteTime": {
     "end_time": "2024-05-23T13:05:02.929978Z",
     "start_time": "2024-05-23T13:05:02.918053Z"
    }
   },
   "cell_type": "code",
   "source": "# data",
   "id": "cdc71b6db17b0708",
   "execution_count": 9,
   "outputs": []
  },
  {
   "metadata": {
    "ExecuteTime": {
     "end_time": "2024-05-23T13:05:02.945539Z",
     "start_time": "2024-05-23T13:05:02.931733Z"
    }
   },
   "cell_type": "code",
   "source": [
    "# print(np.sum(data_missing.isna(), axis=0))\n",
    "# missing_total = 0\n",
    "# not_missing_total = 0\n",
    "# for col in data_missing.columns:\n",
    "    \n",
    "# Total amount of data (total number of entries)\n",
    "# data_missing\n",
    "total_data = data_missing.shape[0] * data_missing.shape[1]  # Total rows multiplied by total columns\n",
    "\n",
    "# Number of missing values\n",
    "missing_values = data_missing.isna().sum().sum()\n",
    "\n",
    "# Percentage of missing data\n",
    "percentage_missing = (missing_values / total_data) * 100\n",
    "\n",
    "print(f\"Total amount of data: {total_data}\")\n",
    "print(f\"Number of missing values: {missing_values}\")\n",
    "print(f\"Percentage of missing data: {percentage_missing:.2f}%\")\n",
    "\n",
    "\n"
   ],
   "id": "3ec1602b4b0b0b5d",
   "execution_count": 10,
   "outputs": []
  }
 ],
 "metadata": {
  "kernelspec": {
   "display_name": "Python 3",
   "language": "python",
   "name": "python3"
  },
  "language_info": {
   "codemirror_mode": {
    "name": "ipython",
    "version": 2
   },
   "file_extension": ".py",
   "mimetype": "text/x-python",
   "name": "python",
   "nbconvert_exporter": "python",
   "pygments_lexer": "ipython2",
   "version": "2.7.6"
  }
 },
 "nbformat": 4,
 "nbformat_minor": 5
}
