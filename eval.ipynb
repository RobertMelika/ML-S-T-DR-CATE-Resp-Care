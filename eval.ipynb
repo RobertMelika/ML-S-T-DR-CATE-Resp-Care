{
 "cells": [
  {
   "cell_type": "code",
   "id": "initial_id",
   "metadata": {
    "collapsed": true,
    "ExecuteTime": {
     "end_time": "2024-06-19T09:41:07.234232Z",
     "start_time": "2024-06-19T09:41:07.231916Z"
    }
   },
   "source": [
    "import pandas as pd\n",
    "import pickle"
   ],
   "outputs": [],
   "execution_count": 103
  },
  {
   "metadata": {},
   "cell_type": "markdown",
   "source": "# Load scaler and imputer ",
   "id": "f3f82810e961e2c7"
  },
  {
   "metadata": {
    "ExecuteTime": {
     "end_time": "2024-06-19T09:41:07.352649Z",
     "start_time": "2024-06-19T09:41:07.347227Z"
    }
   },
   "cell_type": "code",
   "source": [
    "# Load the scaler\n",
    "with open('scaler.pkl', 'rb') as f:\n",
    "    scaler = pickle.load(f)\n",
    "\n",
    "# Load the imputer\n",
    "with open('imputer.pkl', 'rb') as f:\n",
    "    imputer = pickle.load(f)"
   ],
   "id": "6c6d38c620252414",
   "outputs": [],
   "execution_count": 104
  },
  {
   "metadata": {},
   "cell_type": "markdown",
   "source": "# Load data",
   "id": "afe4986df8e57a41"
  },
  {
   "metadata": {
    "ExecuteTime": {
     "end_time": "2024-06-19T09:41:07.395535Z",
     "start_time": "2024-06-19T09:41:07.378549Z"
    }
   },
   "cell_type": "code",
   "source": [
    "# This was to test if it works\n",
    "# data = pd.read_csv('bsc_project_set.csv')\n",
    "# data = data.drop(['id', 'Unnamed: 0', 'map', 'bilirubin', 'creatinine', 'platelets', 'urea', 'diastolic_blood_pressure', 'peep_regime', 'mort_28'], axis=1)\n",
    "\n",
    "data = pd.read_csv('rct_data.csv')"
   ],
   "id": "a0982e6bfba434be",
   "outputs": [],
   "execution_count": 105
  },
  {
   "metadata": {},
   "cell_type": "markdown",
   "source": "# Prepare 'sex' variable",
   "id": "1606bcb76fb5aa83"
  },
  {
   "metadata": {},
   "cell_type": "code",
   "outputs": [],
   "execution_count": null,
   "source": [
    "# column order before changing sex variable to sex_M\n",
    "column_order = ['age','weight','height','pf_ratio','po2','pco2','ph','driving_pressure','lung_compliance','fio2','hco3','heart_rate','minute_volume','peep','plateau_pressure','respiratory_rate','syst_blood_pressure', 'sex']\n",
    "data = data[column_order]"
   ],
   "id": "5f2d06407322ec95"
  },
  {
   "metadata": {
    "ExecuteTime": {
     "end_time": "2024-06-19T09:41:07.423296Z",
     "start_time": "2024-06-19T09:41:07.414674Z"
    }
   },
   "cell_type": "code",
   "source": [
    "rct_data = pd.get_dummies(data, columns=['sex'], drop_first=False)\n",
    "rct_data = rct_data.drop(['sex_F'], axis=1, errors='ignore')\n",
    "column_order = ['age','weight','height','pf_ratio','po2','pco2','ph','driving_pressure','lung_compliance','fio2','hco3','heart_rate','minute_volume','peep','plateau_pressure','respiratory_rate','syst_blood_pressure', 'sex_M']\n",
    "rct_data = rct_data[column_order]"
   ],
   "id": "17c832737f29a6aa",
   "outputs": [],
   "execution_count": 106
  },
  {
   "metadata": {},
   "cell_type": "markdown",
   "source": "# Scale",
   "id": "be9dfc6183b4d9d6"
  },
  {
   "metadata": {
    "ExecuteTime": {
     "end_time": "2024-06-19T09:41:07.442290Z",
     "start_time": "2024-06-19T09:41:07.433201Z"
    }
   },
   "cell_type": "code",
   "source": "rct_data[rct_data.columns] = scaler.transform(rct_data)",
   "id": "12ae409df8da0977",
   "outputs": [],
   "execution_count": 107
  },
  {
   "metadata": {},
   "cell_type": "markdown",
   "source": "# Impute",
   "id": "47322183f1d55772"
  },
  {
   "metadata": {
    "ExecuteTime": {
     "end_time": "2024-06-19T09:41:08.868055Z",
     "start_time": "2024-06-19T09:41:07.443559Z"
    }
   },
   "cell_type": "code",
   "source": "rct_data[rct_data.columns] = imputer.transform(rct_data)",
   "id": "aeb5c8e14609e16f",
   "outputs": [],
   "execution_count": 108
  },
  {
   "metadata": {},
   "cell_type": "markdown",
   "source": "# selected features to predict on",
   "id": "61be7fdcfbdf99a4"
  },
  {
   "metadata": {
    "ExecuteTime": {
     "end_time": "2024-06-19T09:41:08.875544Z",
     "start_time": "2024-06-19T09:41:08.870339Z"
    }
   },
   "cell_type": "code",
   "source": [
    "selected_features = ['age', 'weight', 'pf_ratio', 'po2', 'ph', 'fio2', 'driving_pressure', 'plateau_pressure']\n",
    "rct_data = rct_data[selected_features]"
   ],
   "id": "8e5b13e1d5ce3317",
   "outputs": [],
   "execution_count": 109
  },
  {
   "metadata": {},
   "cell_type": "markdown",
   "source": "# S-Learner with Gradient Boosting",
   "id": "30f9d0520b80d4e6"
  },
  {
   "metadata": {
    "ExecuteTime": {
     "end_time": "2024-06-19T09:41:08.911751Z",
     "start_time": "2024-06-19T09:41:08.877070Z"
    }
   },
   "cell_type": "code",
   "source": [
    "# Load the CATE/DR model\n",
    "with open('s_learner_gb_model.pkl', 'rb') as f:\n",
    "    model = pickle.load(f)\n",
    "    \n",
    "# predict\n",
    "outcomes = model.effect(rct_data[selected_features])\n",
    "outcomes_df = pd.DataFrame(outcomes, columns=['cate'])\n",
    "\n",
    "# Save the DataFrame to a CSV file\n",
    "outcomes_df.to_csv('s_learner_gb_model.csv', index=False)"
   ],
   "id": "423ec523bff0716a",
   "outputs": [],
   "execution_count": 110
  },
  {
   "metadata": {},
   "cell_type": "markdown",
   "source": "# S-Learner with Linear Regression",
   "id": "16dec55a514d3192"
  },
  {
   "metadata": {
    "ExecuteTime": {
     "end_time": "2024-06-19T09:41:08.951594Z",
     "start_time": "2024-06-19T09:41:08.914439Z"
    }
   },
   "cell_type": "code",
   "source": [
    "# Load the CATE/DR model\n",
    "with open('s_learner_lr_model.pkl', 'rb') as f:\n",
    "    model = pickle.load(f)\n",
    "    \n",
    "# predict\n",
    "outcomes = model.effect(rct_data[selected_features])\n",
    "outcomes_df = pd.DataFrame(outcomes, columns=['cate'])\n",
    "\n",
    "# Save the DataFrame to a CSV file\n",
    "outcomes_df.to_csv('s_learner_lr_model.csv', index=False)"
   ],
   "id": "6074762b3f2da8e5",
   "outputs": [],
   "execution_count": 111
  },
  {
   "metadata": {},
   "cell_type": "markdown",
   "source": "# T-Learner with Gradient Boosting",
   "id": "75d39740239a650b"
  },
  {
   "metadata": {
    "ExecuteTime": {
     "end_time": "2024-06-19T09:41:09.021020Z",
     "start_time": "2024-06-19T09:41:08.953509Z"
    }
   },
   "cell_type": "code",
   "source": [
    "# Load the CATE/DR model\n",
    "with open('t_learner_gb_model.pkl', 'rb') as f:\n",
    "    model = pickle.load(f)\n",
    "    \n",
    "# predict\n",
    "outcomes = model.effect(rct_data[selected_features])\n",
    "outcomes_df = pd.DataFrame(outcomes, columns=['cate'])\n",
    "\n",
    "# Save the DataFrame to a CSV file\n",
    "outcomes_df.to_csv('t_learner_gb_model.csv', index=False)"
   ],
   "id": "f7580df60bcc62a1",
   "outputs": [],
   "execution_count": 112
  },
  {
   "metadata": {},
   "cell_type": "markdown",
   "source": "# T-Learner with Linear Regression",
   "id": "af068a677f3cec29"
  },
  {
   "metadata": {
    "ExecuteTime": {
     "end_time": "2024-06-19T09:41:09.044079Z",
     "start_time": "2024-06-19T09:41:09.022016Z"
    }
   },
   "cell_type": "code",
   "source": [
    "# Load the CATE/DR model\n",
    "with open('t_learner_lr_model.pkl', 'rb') as f:\n",
    "    model = pickle.load(f)\n",
    "    \n",
    "# predict\n",
    "outcomes = model.effect(rct_data[selected_features])\n",
    "outcomes_df = pd.DataFrame(outcomes, columns=['cate'])\n",
    "\n",
    "# Save the DataFrame to a CSV file\n",
    "outcomes_df.to_csv('t_learner_lr_model.csv', index=False)"
   ],
   "id": "eec6ceadd6f526cd",
   "outputs": [],
   "execution_count": 113
  },
  {
   "metadata": {},
   "cell_type": "markdown",
   "source": "# DR-Learner with SVM Propensity and XGBoost Response with XGBoost Regressor Final",
   "id": "b1d36cc98e58efa3"
  },
  {
   "metadata": {
    "ExecuteTime": {
     "end_time": "2024-06-19T09:41:09.162858Z",
     "start_time": "2024-06-19T09:41:09.046768Z"
    }
   },
   "cell_type": "code",
   "source": [
    "# Load the CATE/DR model\n",
    "with open('dr_learner_svm_xgb_xgb_model.pkl', 'rb') as f:\n",
    "    model = pickle.load(f)\n",
    "    \n",
    "# predict\n",
    "outcomes = model.effect(rct_data[selected_features])\n",
    "outcomes_df = pd.DataFrame(outcomes, columns=['cate'])\n",
    "\n",
    "# Save the DataFrame to a CSV file\n",
    "outcomes_df.to_csv('dr_learner_svm_xgb_xgb_model.csv', index=False)"
   ],
   "id": "f1e376dccbecdf8a",
   "outputs": [],
   "execution_count": 114
  },
  {
   "metadata": {},
   "cell_type": "markdown",
   "source": "# DR-Learner with SVM Propensity and Logistic Regression Response with XGBoost Regressor Final",
   "id": "8d550c2a5990ec70"
  },
  {
   "metadata": {
    "ExecuteTime": {
     "end_time": "2024-06-19T09:41:09.218213Z",
     "start_time": "2024-06-19T09:41:09.164010Z"
    }
   },
   "cell_type": "code",
   "source": [
    "# Load the CATE/DR model\n",
    "with open('dr_learner_svm_logreg_xgb_model.pkl', 'rb') as f:\n",
    "    model = pickle.load(f)\n",
    "    \n",
    "# predict\n",
    "outcomes = model.effect(rct_data[selected_features])\n",
    "outcomes_df = pd.DataFrame(outcomes, columns=['cate'])\n",
    "\n",
    "# Save the DataFrame to a CSV file\n",
    "outcomes_df.to_csv('dr_learner_svm_logreg_xgb_model.csv', index=False)"
   ],
   "id": "a0c4990493529aa0",
   "outputs": [],
   "execution_count": 115
  },
  {
   "metadata": {},
   "cell_type": "markdown",
   "source": "# DR-Learner with SVM Propensity and Gradient Boosting Response with XGBoost Regressor Final",
   "id": "6683f62172c934ae"
  },
  {
   "metadata": {
    "ExecuteTime": {
     "end_time": "2024-06-19T09:41:09.287088Z",
     "start_time": "2024-06-19T09:41:09.219966Z"
    }
   },
   "cell_type": "code",
   "source": [
    "# Load the CATE/DR model\n",
    "with open('dr_learner_svm_gb_xgb_model.pkl', 'rb') as f:\n",
    "    model = pickle.load(f)\n",
    "    \n",
    "# predict\n",
    "outcomes = model.effect(rct_data[selected_features])\n",
    "outcomes_df = pd.DataFrame(outcomes, columns=['cate'])\n",
    "\n",
    "# Save the DataFrame to a CSV file\n",
    "outcomes_df.to_csv('dr_learner_svm_gb_xgb_model.csv', index=False)"
   ],
   "id": "d1796543ec3143db",
   "outputs": [],
   "execution_count": 116
  },
  {
   "metadata": {},
   "cell_type": "markdown",
   "source": "# DR-Learner with Logistic Regression Propensity and Logistic Regression Response with Linear Regression Final",
   "id": "76cf9c31d880516e"
  },
  {
   "metadata": {
    "ExecuteTime": {
     "end_time": "2024-06-19T09:41:09.335850Z",
     "start_time": "2024-06-19T09:41:09.290105Z"
    }
   },
   "cell_type": "code",
   "source": [
    "# Load the CATE/DR model\n",
    "with open('dr_learner_logreg_logreg_linear_model.pkl', 'rb') as f:\n",
    "    model = pickle.load(f)\n",
    "    \n",
    "# predict\n",
    "outcomes = model.effect(rct_data[selected_features])\n",
    "outcomes_df = pd.DataFrame(outcomes, columns=['cate'])\n",
    "\n",
    "# Save the DataFrame to a CSV file\n",
    "outcomes_df.to_csv('dr_learner_logreg_logreg_linear_model.csv', index=False)"
   ],
   "id": "91ace011cf54d69b",
   "outputs": [],
   "execution_count": 117
  },
  {
   "metadata": {},
   "cell_type": "markdown",
   "source": "# DR-Learner with Gradient Boosting Propensity and Gradient Boosting Response with Gradient Boosting Final",
   "id": "bf7c1d4f35f32d80"
  },
  {
   "metadata": {
    "ExecuteTime": {
     "end_time": "2024-06-19T09:41:09.401629Z",
     "start_time": "2024-06-19T09:41:09.337244Z"
    }
   },
   "cell_type": "code",
   "source": [
    "# Load the CATE/DR model\n",
    "with open('dr_learner_gb_gb_gb_model.pkl', 'rb') as f:\n",
    "    model = pickle.load(f)\n",
    "    \n",
    "# predict\n",
    "outcomes = model.effect(rct_data[selected_features])\n",
    "outcomes_df = pd.DataFrame(outcomes, columns=['cate'])\n",
    "\n",
    "# Save the DataFrame to a CSV file\n",
    "outcomes_df.to_csv('dr_learner_gb_gb_gb_model.csv', index=False)"
   ],
   "id": "926ef522411e254b",
   "outputs": [],
   "execution_count": 118
  },
  {
   "metadata": {},
   "cell_type": "markdown",
   "source": "# DR-Learner with K-Nearest Neighbors Propensity and Gradient Boosting Response with Gradient Boosting Final",
   "id": "863e31b1042bcc56"
  },
  {
   "metadata": {
    "ExecuteTime": {
     "end_time": "2024-06-19T09:41:09.442943Z",
     "start_time": "2024-06-19T09:41:09.403327Z"
    }
   },
   "cell_type": "code",
   "source": [
    "# Load the CATE/DR model\n",
    "with open('dr_learner_knn_gb_gb_model.pkl', 'rb') as f:\n",
    "    model = pickle.load(f)\n",
    "    \n",
    "# predict\n",
    "outcomes = model.effect(rct_data[selected_features])\n",
    "outcomes_df = pd.DataFrame(outcomes, columns=['cate'])\n",
    "\n",
    "# Save the DataFrame to a CSV file\n",
    "outcomes_df.to_csv('dr_learner_knn_gb_gb_model.csv', index=False)"
   ],
   "id": "6f50986078df09dc",
   "outputs": [],
   "execution_count": 119
  }
 ],
 "metadata": {
  "kernelspec": {
   "display_name": "Python 3",
   "language": "python",
   "name": "python3"
  },
  "language_info": {
   "codemirror_mode": {
    "name": "ipython",
    "version": 2
   },
   "file_extension": ".py",
   "mimetype": "text/x-python",
   "name": "python",
   "nbconvert_exporter": "python",
   "pygments_lexer": "ipython2",
   "version": "2.7.6"
  }
 },
 "nbformat": 4,
 "nbformat_minor": 5
}
